{
  "nbformat": 4,
  "nbformat_minor": 0,
  "metadata": {
    "colab": {
      "provenance": [],
      "authorship_tag": "ABX9TyNrw2zzdfQISuoxrGs3/nI3",
      "include_colab_link": true
    },
    "kernelspec": {
      "name": "python3",
      "display_name": "Python 3"
    },
    "language_info": {
      "name": "python"
    }
  },
  "cells": [
    {
      "cell_type": "markdown",
      "metadata": {
        "id": "view-in-github",
        "colab_type": "text"
      },
      "source": [
        "<a href=\"https://colab.research.google.com/github/Rinniedh/Diane-Hoang-Sentiment-Analysis-using-Linear-Regression/blob/main/Diane_Hoang_Sentiment_Analysis_using_Linear_Regression.ipynb\" target=\"_parent\"><img src=\"https://colab.research.google.com/assets/colab-badge.svg\" alt=\"Open In Colab\"/></a>"
      ]
    },
    {
      "cell_type": "code",
      "execution_count": 1,
      "metadata": {
        "colab": {
          "base_uri": "https://localhost:8080/"
        },
        "id": "jIjclmgzcB_8",
        "outputId": "376b8e50-b3a0-4f6a-a120-f198966122fc"
      },
      "outputs": [
        {
          "output_type": "stream",
          "name": "stdout",
          "text": [
            "Numeric Data:\n",
            "   day  open_price  high_price  low_price  moving_average_5_day  \\\n",
            "0    1       44.55       44.83      44.32                 44.36   \n",
            "1    2       44.89       45.12      44.17                 44.37   \n",
            "2    3       45.04       45.35      44.84                 44.57   \n",
            "3    4       45.02       45.15      44.70                 44.65   \n",
            "4    5       44.75       45.04      44.65                 44.76   \n",
            "\n",
            "   moving_average_10_day  moving_average_50_day  moving_average_200_day  \\\n",
            "0                  43.82                  40.23                   42.25   \n",
            "1                  44.06                  40.32                   42.27   \n",
            "2                  44.21                  40.42                   42.27   \n",
            "3                  44.40                  40.50                   42.28   \n",
            "4                  44.58                  40.59                   42.28   \n",
            "\n",
            "    volume  next_day_close_price  \n",
            "0  1500700                 44.83  \n",
            "1  2391800                 45.03  \n",
            "2  1723400                 44.97  \n",
            "3  1490500                 44.91  \n",
            "4  1349500                 45.31  \n",
            "\n",
            "Tweets Data:\n",
            "   day                                              tweet\n",
            "0    1  #Dan ($Dan) Doubles Down on Healthy, Eco-Frien...\n",
            "1    1  RT @DvdndDiplomats: Bert's X Always Buy stocks...\n",
            "2    1          $Dan Alert From our Stock News Alerts App\n",
            "3    1  X NEW Stocks at #FusionIQ with Master Scores >...\n",
            "4    1  #AmazonPrime creates a captive audience, so \"b...\n"
          ]
        }
      ],
      "source": [
        "import pandas as pd\n",
        "\n",
        "# Load the Excel file\n",
        "file_path = '/Project 02 - Data.xlsx'\n",
        "xls = pd.ExcelFile(file_path)\n",
        "\n",
        "# Load the numeric data\n",
        "df_numeric = pd.read_excel(xls, sheet_name='Numeric Data')\n",
        "\n",
        "# Load the tweet data\n",
        "df_tweets = pd.read_excel(xls, sheet_name='Tweets')\n",
        "\n",
        "# Display the first few rows of each dataframe to understand their structure\n",
        "print(\"Numeric Data:\")\n",
        "print(df_numeric.head())\n",
        "print(\"\\nTweets Data:\")\n",
        "print(df_tweets.head())\n"
      ]
    },
    {
      "cell_type": "code",
      "source": [
        "##Step 3: Sentiment Analysis\n",
        "\n",
        "from textblob import TextBlob\n",
        "\n",
        "# Function to compute sentiment scores\n",
        "def get_sentiment(tweet):\n",
        "    # Ensure the tweet is a string\n",
        "    if not isinstance(tweet, str):\n",
        "        return 0.0, 0.0\n",
        "    analysis = TextBlob(tweet)\n",
        "    return analysis.sentiment.polarity, analysis.sentiment.subjectivity\n",
        "\n",
        "# Apply sentiment analysis to each tweet\n",
        "df_tweets['polarity'], df_tweets['subjectivity'] = zip(*df_tweets['tweet'].apply(get_sentiment))\n",
        "\n",
        "# Aggregate sentiment scores by day\n",
        "daily_sentiment = df_tweets.groupby('day').agg({'polarity': 'mean', 'subjectivity': 'mean'}).reset_index()\n",
        "print(daily_sentiment.head())\n",
        "\n"
      ],
      "metadata": {
        "colab": {
          "base_uri": "https://localhost:8080/"
        },
        "id": "uXan1mZPd5_T",
        "outputId": "37ce9ffb-c224-45b1-ce98-74e4dbf89126"
      },
      "execution_count": 2,
      "outputs": [
        {
          "output_type": "stream",
          "name": "stdout",
          "text": [
            "   day  polarity  subjectivity\n",
            "0    1  0.069925      0.180038\n",
            "1    2  0.036106      0.244376\n",
            "2    3  0.000953      0.244024\n",
            "3    4 -0.013889      0.188889\n",
            "4    5  0.064073      0.225643\n"
          ]
        }
      ]
    },
    {
      "cell_type": "code",
      "source": [
        "##Step 4: Combine Datasets\n",
        "\n",
        "# Combine the numeric data with the aggregated sentiment scores\n",
        "df_combined = pd.merge(df_numeric, daily_sentiment, on='day', how='left')\n",
        "\n",
        "# Display the combined dataset\n",
        "print(df_combined.head())\n"
      ],
      "metadata": {
        "colab": {
          "base_uri": "https://localhost:8080/"
        },
        "id": "IPWg10MFd--z",
        "outputId": "89e2f826-d082-4dd0-e7c8-2cbecd3b10f1"
      },
      "execution_count": 3,
      "outputs": [
        {
          "output_type": "stream",
          "name": "stdout",
          "text": [
            "   day  open_price  high_price  low_price  moving_average_5_day  \\\n",
            "0    1       44.55       44.83      44.32                 44.36   \n",
            "1    2       44.89       45.12      44.17                 44.37   \n",
            "2    3       45.04       45.35      44.84                 44.57   \n",
            "3    4       45.02       45.15      44.70                 44.65   \n",
            "4    5       44.75       45.04      44.65                 44.76   \n",
            "\n",
            "   moving_average_10_day  moving_average_50_day  moving_average_200_day  \\\n",
            "0                  43.82                  40.23                   42.25   \n",
            "1                  44.06                  40.32                   42.27   \n",
            "2                  44.21                  40.42                   42.27   \n",
            "3                  44.40                  40.50                   42.28   \n",
            "4                  44.58                  40.59                   42.28   \n",
            "\n",
            "    volume  next_day_close_price  polarity  subjectivity  \n",
            "0  1500700                 44.83  0.069925      0.180038  \n",
            "1  2391800                 45.03  0.036106      0.244376  \n",
            "2  1723400                 44.97  0.000953      0.244024  \n",
            "3  1490500                 44.91 -0.013889      0.188889  \n",
            "4  1349500                 45.31  0.064073      0.225643  \n"
          ]
        }
      ]
    },
    {
      "cell_type": "code",
      "source": [
        "## Step 5: Feature Engineering and Data Cleaning\n",
        "\n",
        "# Example: Fill missing sentiment values with zero\n",
        "df_combined['polarity'].fillna(0, inplace=True)\n",
        "df_combined['subjectivity'].fillna(0, inplace=True)\n",
        "\n",
        "# Additional feature engineering or data cleaning tasks can be added here\n",
        "\n",
        "# Display the cleaned dataset\n",
        "print(df_combined.info())\n"
      ],
      "metadata": {
        "colab": {
          "base_uri": "https://localhost:8080/"
        },
        "id": "FCNEmZhoebhn",
        "outputId": "9976e40f-2a8a-4839-d2ed-881eafc58644"
      },
      "execution_count": 4,
      "outputs": [
        {
          "output_type": "stream",
          "name": "stdout",
          "text": [
            "<class 'pandas.core.frame.DataFrame'>\n",
            "RangeIndex: 1300 entries, 0 to 1299\n",
            "Data columns (total 12 columns):\n",
            " #   Column                  Non-Null Count  Dtype  \n",
            "---  ------                  --------------  -----  \n",
            " 0   day                     1300 non-null   int64  \n",
            " 1   open_price              1300 non-null   float64\n",
            " 2   high_price              1300 non-null   float64\n",
            " 3   low_price               1300 non-null   float64\n",
            " 4   moving_average_5_day    1300 non-null   float64\n",
            " 5   moving_average_10_day   1300 non-null   float64\n",
            " 6   moving_average_50_day   1300 non-null   float64\n",
            " 7   moving_average_200_day  1300 non-null   float64\n",
            " 8   volume                  1300 non-null   int64  \n",
            " 9   next_day_close_price    1000 non-null   float64\n",
            " 10  polarity                1300 non-null   float64\n",
            " 11  subjectivity            1300 non-null   float64\n",
            "dtypes: float64(10), int64(2)\n",
            "memory usage: 122.0 KB\n",
            "None\n"
          ]
        }
      ]
    },
    {
      "cell_type": "code",
      "source": [
        "## Step 6: Split Data\n",
        "# Create a dataframe containing only those rows for which predictions are needed\n",
        "df_predict = df_combined[pd.isnull(df_combined.next_day_close_price)].copy()\n",
        "\n",
        "# Remove all incomplete rows from the main dataframe\n",
        "df_train = df_combined[pd.isnull(df_combined.next_day_close_price) == False].copy()\n",
        "\n",
        "# Display the shapes of the resulting dataframes\n",
        "print(\"Training Data Shape:\", df_train.shape)\n",
        "print(\"Prediction Data Shape:\", df_predict.shape)\n"
      ],
      "metadata": {
        "colab": {
          "base_uri": "https://localhost:8080/"
        },
        "id": "nCQaKDRmek_w",
        "outputId": "956884f1-af6f-4ceb-8aeb-052e54f1c642"
      },
      "execution_count": 5,
      "outputs": [
        {
          "output_type": "stream",
          "name": "stdout",
          "text": [
            "Training Data Shape: (1000, 12)\n",
            "Prediction Data Shape: (300, 12)\n"
          ]
        }
      ]
    },
    {
      "cell_type": "code",
      "source": [
        "from sklearn.model_selection import train_test_split\n",
        "\n",
        "# Splitting df_train into features and target variable\n",
        "X = df_train.drop(columns=['next_day_close_price'])\n",
        "y = df_train['next_day_close_price']\n",
        "\n",
        "# Splitting the data into 70% training and 30% test\n",
        "X_train, X_test, y_train, y_test = train_test_split(X, y, test_size=0.25, random_state=42)\n",
        "\n",
        "# Displaying the shapes of the resulting datasets\n",
        "print(\"Training Data Shape:\", X_train.shape, y_train.shape)\n",
        "print(\"Test Data Shape:\", X_test.shape, y_test.shape)\n"
      ],
      "metadata": {
        "colab": {
          "base_uri": "https://localhost:8080/"
        },
        "id": "CtuUm6KZpmDP",
        "outputId": "a7808cad-a4cf-4023-9c4e-18bc43786dee"
      },
      "execution_count": 6,
      "outputs": [
        {
          "output_type": "stream",
          "name": "stdout",
          "text": [
            "Training Data Shape: (750, 11) (750,)\n",
            "Test Data Shape: (250, 11) (250,)\n"
          ]
        }
      ]
    },
    {
      "cell_type": "code",
      "source": [
        "from sklearn.linear_model import LinearRegression\n",
        "from sklearn.metrics import mean_squared_error, r2_score, mean_absolute_error\n",
        "\n",
        "# Step 7: Model Training\n",
        "\n",
        "# Initialize a Linear Regression model\n",
        "linear_model = LinearRegression()\n",
        "\n",
        "# Fit the model to the training data\n",
        "linear_model.fit(X_train, y_train)\n",
        "\n",
        "# Validate the model\n",
        "y_pred_linear = linear_model.predict(X_test)\n",
        "\n",
        "# Calculate evaluation metrics\n",
        "mse_linear = mean_squared_error(y_test, y_pred_linear)\n",
        "print(f'Linear Regression Mean Squared Error: {mse_linear}')\n",
        "\n",
        "# Calculate R-squared on the test set\n",
        "r2_linear = r2_score(y_test, y_pred_linear)\n",
        "print(f'Linear Regression R-squared: {r2_linear}')\n",
        "\n",
        "# Calculate MAE\n",
        "mae_linear = mean_absolute_error(y_test, y_pred_linear)\n",
        "print(f'Linear Regression Mean Absolute Error: {mae_linear}')\n"
      ],
      "metadata": {
        "colab": {
          "base_uri": "https://localhost:8080/"
        },
        "id": "g8DXAH-WetOv",
        "outputId": "ffe95c56-3fc8-4f86-c40c-3c9190347885"
      },
      "execution_count": 7,
      "outputs": [
        {
          "output_type": "stream",
          "name": "stdout",
          "text": [
            "Linear Regression Mean Squared Error: 0.3202138182230296\n",
            "Linear Regression R-squared: 0.9968546368338088\n",
            "Linear Regression Mean Absolute Error: 0.3761173624711928\n"
          ]
        }
      ]
    },
    {
      "cell_type": "code",
      "source": [
        "# Step 8: Making Predictions\n",
        "\n",
        "# Assuming df_predict contains the data for which predictions need to be made\n",
        "\n",
        "# Make predictions using the trained Linear Regression model on df_predict\n",
        "y_pred_linear_predict = linear_model.predict(df_predict.drop(columns=['next_day_close_price']))\n",
        "\n",
        "# Display the predictions for df_predict\n",
        "predictions_df_predict = pd.DataFrame({'day': df_predict['day'], 'next_day_close_price_predicted': y_pred_linear_predict})\n",
        "print(predictions_df_predict)\n"
      ],
      "metadata": {
        "colab": {
          "base_uri": "https://localhost:8080/"
        },
        "id": "0PhBJwbee58_",
        "outputId": "32ef8657-90f8-4f08-cff7-fad98b9d968d"
      },
      "execution_count": 8,
      "outputs": [
        {
          "output_type": "stream",
          "name": "stdout",
          "text": [
            "       day  next_day_close_price_predicted\n",
            "1000  1001                       56.441725\n",
            "1001  1002                       58.836219\n",
            "1002  1003                       58.731218\n",
            "1003  1004                       58.054063\n",
            "1004  1005                       58.682448\n",
            "...    ...                             ...\n",
            "1295  1296                      114.269896\n",
            "1296  1297                      116.624407\n",
            "1297  1298                      116.519459\n",
            "1298  1299                      117.556166\n",
            "1299  1300                      117.368751\n",
            "\n",
            "[300 rows x 2 columns]\n"
          ]
        }
      ]
    },
    {
      "cell_type": "code",
      "source": [
        "## Display the results\n",
        "predictions_df_predict"
      ],
      "metadata": {
        "colab": {
          "base_uri": "https://localhost:8080/",
          "height": 424
        },
        "id": "absg-OxDmflM",
        "outputId": "10a57a07-baf0-4654-ca58-270e5da503f0"
      },
      "execution_count": 9,
      "outputs": [
        {
          "output_type": "execute_result",
          "data": {
            "text/plain": [
              "       day  next_day_close_price_predicted\n",
              "1000  1001                       56.441725\n",
              "1001  1002                       58.836219\n",
              "1002  1003                       58.731218\n",
              "1003  1004                       58.054063\n",
              "1004  1005                       58.682448\n",
              "...    ...                             ...\n",
              "1295  1296                      114.269896\n",
              "1296  1297                      116.624407\n",
              "1297  1298                      116.519459\n",
              "1298  1299                      117.556166\n",
              "1299  1300                      117.368751\n",
              "\n",
              "[300 rows x 2 columns]"
            ],
            "text/html": [
              "\n",
              "  <div id=\"df-c542ba71-22e1-44dd-91c5-b135e77280cc\" class=\"colab-df-container\">\n",
              "    <div>\n",
              "<style scoped>\n",
              "    .dataframe tbody tr th:only-of-type {\n",
              "        vertical-align: middle;\n",
              "    }\n",
              "\n",
              "    .dataframe tbody tr th {\n",
              "        vertical-align: top;\n",
              "    }\n",
              "\n",
              "    .dataframe thead th {\n",
              "        text-align: right;\n",
              "    }\n",
              "</style>\n",
              "<table border=\"1\" class=\"dataframe\">\n",
              "  <thead>\n",
              "    <tr style=\"text-align: right;\">\n",
              "      <th></th>\n",
              "      <th>day</th>\n",
              "      <th>next_day_close_price_predicted</th>\n",
              "    </tr>\n",
              "  </thead>\n",
              "  <tbody>\n",
              "    <tr>\n",
              "      <th>1000</th>\n",
              "      <td>1001</td>\n",
              "      <td>56.441725</td>\n",
              "    </tr>\n",
              "    <tr>\n",
              "      <th>1001</th>\n",
              "      <td>1002</td>\n",
              "      <td>58.836219</td>\n",
              "    </tr>\n",
              "    <tr>\n",
              "      <th>1002</th>\n",
              "      <td>1003</td>\n",
              "      <td>58.731218</td>\n",
              "    </tr>\n",
              "    <tr>\n",
              "      <th>1003</th>\n",
              "      <td>1004</td>\n",
              "      <td>58.054063</td>\n",
              "    </tr>\n",
              "    <tr>\n",
              "      <th>1004</th>\n",
              "      <td>1005</td>\n",
              "      <td>58.682448</td>\n",
              "    </tr>\n",
              "    <tr>\n",
              "      <th>...</th>\n",
              "      <td>...</td>\n",
              "      <td>...</td>\n",
              "    </tr>\n",
              "    <tr>\n",
              "      <th>1295</th>\n",
              "      <td>1296</td>\n",
              "      <td>114.269896</td>\n",
              "    </tr>\n",
              "    <tr>\n",
              "      <th>1296</th>\n",
              "      <td>1297</td>\n",
              "      <td>116.624407</td>\n",
              "    </tr>\n",
              "    <tr>\n",
              "      <th>1297</th>\n",
              "      <td>1298</td>\n",
              "      <td>116.519459</td>\n",
              "    </tr>\n",
              "    <tr>\n",
              "      <th>1298</th>\n",
              "      <td>1299</td>\n",
              "      <td>117.556166</td>\n",
              "    </tr>\n",
              "    <tr>\n",
              "      <th>1299</th>\n",
              "      <td>1300</td>\n",
              "      <td>117.368751</td>\n",
              "    </tr>\n",
              "  </tbody>\n",
              "</table>\n",
              "<p>300 rows × 2 columns</p>\n",
              "</div>\n",
              "    <div class=\"colab-df-buttons\">\n",
              "\n",
              "  <div class=\"colab-df-container\">\n",
              "    <button class=\"colab-df-convert\" onclick=\"convertToInteractive('df-c542ba71-22e1-44dd-91c5-b135e77280cc')\"\n",
              "            title=\"Convert this dataframe to an interactive table.\"\n",
              "            style=\"display:none;\">\n",
              "\n",
              "  <svg xmlns=\"http://www.w3.org/2000/svg\" height=\"24px\" viewBox=\"0 -960 960 960\">\n",
              "    <path d=\"M120-120v-720h720v720H120Zm60-500h600v-160H180v160Zm220 220h160v-160H400v160Zm0 220h160v-160H400v160ZM180-400h160v-160H180v160Zm440 0h160v-160H620v160ZM180-180h160v-160H180v160Zm440 0h160v-160H620v160Z\"/>\n",
              "  </svg>\n",
              "    </button>\n",
              "\n",
              "  <style>\n",
              "    .colab-df-container {\n",
              "      display:flex;\n",
              "      gap: 12px;\n",
              "    }\n",
              "\n",
              "    .colab-df-convert {\n",
              "      background-color: #E8F0FE;\n",
              "      border: none;\n",
              "      border-radius: 50%;\n",
              "      cursor: pointer;\n",
              "      display: none;\n",
              "      fill: #1967D2;\n",
              "      height: 32px;\n",
              "      padding: 0 0 0 0;\n",
              "      width: 32px;\n",
              "    }\n",
              "\n",
              "    .colab-df-convert:hover {\n",
              "      background-color: #E2EBFA;\n",
              "      box-shadow: 0px 1px 2px rgba(60, 64, 67, 0.3), 0px 1px 3px 1px rgba(60, 64, 67, 0.15);\n",
              "      fill: #174EA6;\n",
              "    }\n",
              "\n",
              "    .colab-df-buttons div {\n",
              "      margin-bottom: 4px;\n",
              "    }\n",
              "\n",
              "    [theme=dark] .colab-df-convert {\n",
              "      background-color: #3B4455;\n",
              "      fill: #D2E3FC;\n",
              "    }\n",
              "\n",
              "    [theme=dark] .colab-df-convert:hover {\n",
              "      background-color: #434B5C;\n",
              "      box-shadow: 0px 1px 3px 1px rgba(0, 0, 0, 0.15);\n",
              "      filter: drop-shadow(0px 1px 2px rgba(0, 0, 0, 0.3));\n",
              "      fill: #FFFFFF;\n",
              "    }\n",
              "  </style>\n",
              "\n",
              "    <script>\n",
              "      const buttonEl =\n",
              "        document.querySelector('#df-c542ba71-22e1-44dd-91c5-b135e77280cc button.colab-df-convert');\n",
              "      buttonEl.style.display =\n",
              "        google.colab.kernel.accessAllowed ? 'block' : 'none';\n",
              "\n",
              "      async function convertToInteractive(key) {\n",
              "        const element = document.querySelector('#df-c542ba71-22e1-44dd-91c5-b135e77280cc');\n",
              "        const dataTable =\n",
              "          await google.colab.kernel.invokeFunction('convertToInteractive',\n",
              "                                                    [key], {});\n",
              "        if (!dataTable) return;\n",
              "\n",
              "        const docLinkHtml = 'Like what you see? Visit the ' +\n",
              "          '<a target=\"_blank\" href=https://colab.research.google.com/notebooks/data_table.ipynb>data table notebook</a>'\n",
              "          + ' to learn more about interactive tables.';\n",
              "        element.innerHTML = '';\n",
              "        dataTable['output_type'] = 'display_data';\n",
              "        await google.colab.output.renderOutput(dataTable, element);\n",
              "        const docLink = document.createElement('div');\n",
              "        docLink.innerHTML = docLinkHtml;\n",
              "        element.appendChild(docLink);\n",
              "      }\n",
              "    </script>\n",
              "  </div>\n",
              "\n",
              "\n",
              "<div id=\"df-2b4d97b7-8ed3-4461-bd3f-a4a2b8106a75\">\n",
              "  <button class=\"colab-df-quickchart\" onclick=\"quickchart('df-2b4d97b7-8ed3-4461-bd3f-a4a2b8106a75')\"\n",
              "            title=\"Suggest charts\"\n",
              "            style=\"display:none;\">\n",
              "\n",
              "<svg xmlns=\"http://www.w3.org/2000/svg\" height=\"24px\"viewBox=\"0 0 24 24\"\n",
              "     width=\"24px\">\n",
              "    <g>\n",
              "        <path d=\"M19 3H5c-1.1 0-2 .9-2 2v14c0 1.1.9 2 2 2h14c1.1 0 2-.9 2-2V5c0-1.1-.9-2-2-2zM9 17H7v-7h2v7zm4 0h-2V7h2v10zm4 0h-2v-4h2v4z\"/>\n",
              "    </g>\n",
              "</svg>\n",
              "  </button>\n",
              "\n",
              "<style>\n",
              "  .colab-df-quickchart {\n",
              "      --bg-color: #E8F0FE;\n",
              "      --fill-color: #1967D2;\n",
              "      --hover-bg-color: #E2EBFA;\n",
              "      --hover-fill-color: #174EA6;\n",
              "      --disabled-fill-color: #AAA;\n",
              "      --disabled-bg-color: #DDD;\n",
              "  }\n",
              "\n",
              "  [theme=dark] .colab-df-quickchart {\n",
              "      --bg-color: #3B4455;\n",
              "      --fill-color: #D2E3FC;\n",
              "      --hover-bg-color: #434B5C;\n",
              "      --hover-fill-color: #FFFFFF;\n",
              "      --disabled-bg-color: #3B4455;\n",
              "      --disabled-fill-color: #666;\n",
              "  }\n",
              "\n",
              "  .colab-df-quickchart {\n",
              "    background-color: var(--bg-color);\n",
              "    border: none;\n",
              "    border-radius: 50%;\n",
              "    cursor: pointer;\n",
              "    display: none;\n",
              "    fill: var(--fill-color);\n",
              "    height: 32px;\n",
              "    padding: 0;\n",
              "    width: 32px;\n",
              "  }\n",
              "\n",
              "  .colab-df-quickchart:hover {\n",
              "    background-color: var(--hover-bg-color);\n",
              "    box-shadow: 0 1px 2px rgba(60, 64, 67, 0.3), 0 1px 3px 1px rgba(60, 64, 67, 0.15);\n",
              "    fill: var(--button-hover-fill-color);\n",
              "  }\n",
              "\n",
              "  .colab-df-quickchart-complete:disabled,\n",
              "  .colab-df-quickchart-complete:disabled:hover {\n",
              "    background-color: var(--disabled-bg-color);\n",
              "    fill: var(--disabled-fill-color);\n",
              "    box-shadow: none;\n",
              "  }\n",
              "\n",
              "  .colab-df-spinner {\n",
              "    border: 2px solid var(--fill-color);\n",
              "    border-color: transparent;\n",
              "    border-bottom-color: var(--fill-color);\n",
              "    animation:\n",
              "      spin 1s steps(1) infinite;\n",
              "  }\n",
              "\n",
              "  @keyframes spin {\n",
              "    0% {\n",
              "      border-color: transparent;\n",
              "      border-bottom-color: var(--fill-color);\n",
              "      border-left-color: var(--fill-color);\n",
              "    }\n",
              "    20% {\n",
              "      border-color: transparent;\n",
              "      border-left-color: var(--fill-color);\n",
              "      border-top-color: var(--fill-color);\n",
              "    }\n",
              "    30% {\n",
              "      border-color: transparent;\n",
              "      border-left-color: var(--fill-color);\n",
              "      border-top-color: var(--fill-color);\n",
              "      border-right-color: var(--fill-color);\n",
              "    }\n",
              "    40% {\n",
              "      border-color: transparent;\n",
              "      border-right-color: var(--fill-color);\n",
              "      border-top-color: var(--fill-color);\n",
              "    }\n",
              "    60% {\n",
              "      border-color: transparent;\n",
              "      border-right-color: var(--fill-color);\n",
              "    }\n",
              "    80% {\n",
              "      border-color: transparent;\n",
              "      border-right-color: var(--fill-color);\n",
              "      border-bottom-color: var(--fill-color);\n",
              "    }\n",
              "    90% {\n",
              "      border-color: transparent;\n",
              "      border-bottom-color: var(--fill-color);\n",
              "    }\n",
              "  }\n",
              "</style>\n",
              "\n",
              "  <script>\n",
              "    async function quickchart(key) {\n",
              "      const quickchartButtonEl =\n",
              "        document.querySelector('#' + key + ' button');\n",
              "      quickchartButtonEl.disabled = true;  // To prevent multiple clicks.\n",
              "      quickchartButtonEl.classList.add('colab-df-spinner');\n",
              "      try {\n",
              "        const charts = await google.colab.kernel.invokeFunction(\n",
              "            'suggestCharts', [key], {});\n",
              "      } catch (error) {\n",
              "        console.error('Error during call to suggestCharts:', error);\n",
              "      }\n",
              "      quickchartButtonEl.classList.remove('colab-df-spinner');\n",
              "      quickchartButtonEl.classList.add('colab-df-quickchart-complete');\n",
              "    }\n",
              "    (() => {\n",
              "      let quickchartButtonEl =\n",
              "        document.querySelector('#df-2b4d97b7-8ed3-4461-bd3f-a4a2b8106a75 button');\n",
              "      quickchartButtonEl.style.display =\n",
              "        google.colab.kernel.accessAllowed ? 'block' : 'none';\n",
              "    })();\n",
              "  </script>\n",
              "</div>\n",
              "\n",
              "  <div id=\"id_8800c003-fd01-48d2-981b-61f36c05f032\">\n",
              "    <style>\n",
              "      .colab-df-generate {\n",
              "        background-color: #E8F0FE;\n",
              "        border: none;\n",
              "        border-radius: 50%;\n",
              "        cursor: pointer;\n",
              "        display: none;\n",
              "        fill: #1967D2;\n",
              "        height: 32px;\n",
              "        padding: 0 0 0 0;\n",
              "        width: 32px;\n",
              "      }\n",
              "\n",
              "      .colab-df-generate:hover {\n",
              "        background-color: #E2EBFA;\n",
              "        box-shadow: 0px 1px 2px rgba(60, 64, 67, 0.3), 0px 1px 3px 1px rgba(60, 64, 67, 0.15);\n",
              "        fill: #174EA6;\n",
              "      }\n",
              "\n",
              "      [theme=dark] .colab-df-generate {\n",
              "        background-color: #3B4455;\n",
              "        fill: #D2E3FC;\n",
              "      }\n",
              "\n",
              "      [theme=dark] .colab-df-generate:hover {\n",
              "        background-color: #434B5C;\n",
              "        box-shadow: 0px 1px 3px 1px rgba(0, 0, 0, 0.15);\n",
              "        filter: drop-shadow(0px 1px 2px rgba(0, 0, 0, 0.3));\n",
              "        fill: #FFFFFF;\n",
              "      }\n",
              "    </style>\n",
              "    <button class=\"colab-df-generate\" onclick=\"generateWithVariable('predictions_df_predict')\"\n",
              "            title=\"Generate code using this dataframe.\"\n",
              "            style=\"display:none;\">\n",
              "\n",
              "  <svg xmlns=\"http://www.w3.org/2000/svg\" height=\"24px\"viewBox=\"0 0 24 24\"\n",
              "       width=\"24px\">\n",
              "    <path d=\"M7,19H8.4L18.45,9,17,7.55,7,17.6ZM5,21V16.75L18.45,3.32a2,2,0,0,1,2.83,0l1.4,1.43a1.91,1.91,0,0,1,.58,1.4,1.91,1.91,0,0,1-.58,1.4L9.25,21ZM18.45,9,17,7.55Zm-12,3A5.31,5.31,0,0,0,4.9,8.1,5.31,5.31,0,0,0,1,6.5,5.31,5.31,0,0,0,4.9,4.9,5.31,5.31,0,0,0,6.5,1,5.31,5.31,0,0,0,8.1,4.9,5.31,5.31,0,0,0,12,6.5,5.46,5.46,0,0,0,6.5,12Z\"/>\n",
              "  </svg>\n",
              "    </button>\n",
              "    <script>\n",
              "      (() => {\n",
              "      const buttonEl =\n",
              "        document.querySelector('#id_8800c003-fd01-48d2-981b-61f36c05f032 button.colab-df-generate');\n",
              "      buttonEl.style.display =\n",
              "        google.colab.kernel.accessAllowed ? 'block' : 'none';\n",
              "\n",
              "      buttonEl.onclick = () => {\n",
              "        google.colab.notebook.generateWithVariable('predictions_df_predict');\n",
              "      }\n",
              "      })();\n",
              "    </script>\n",
              "  </div>\n",
              "\n",
              "    </div>\n",
              "  </div>\n"
            ],
            "application/vnd.google.colaboratory.intrinsic+json": {
              "type": "dataframe",
              "variable_name": "predictions_df_predict",
              "summary": "{\n  \"name\": \"predictions_df_predict\",\n  \"rows\": 300,\n  \"fields\": [\n    {\n      \"column\": \"day\",\n      \"properties\": {\n        \"dtype\": \"number\",\n        \"std\": 86,\n        \"min\": 1001,\n        \"max\": 1300,\n        \"num_unique_values\": 300,\n        \"samples\": [\n          1204,\n          1267,\n          1153\n        ],\n        \"semantic_type\": \"\",\n        \"description\": \"\"\n      }\n    },\n    {\n      \"column\": \"next_day_close_price_predicted\",\n      \"properties\": {\n        \"dtype\": \"number\",\n        \"std\": 18.850774963223213,\n        \"min\": 50.74603988715356,\n        \"max\": 117.55616584234528,\n        \"num_unique_values\": 300,\n        \"samples\": [\n          93.87024259628359,\n          102.97419817062905,\n          88.60029075568036\n        ],\n        \"semantic_type\": \"\",\n        \"description\": \"\"\n      }\n    }\n  ]\n}"
            }
          },
          "metadata": {},
          "execution_count": 9
        }
      ]
    },
    {
      "cell_type": "code",
      "source": [
        "## Step 9 Cross Validation\n",
        "\n",
        "from sklearn.model_selection import cross_val_score\n",
        "import numpy as np\n",
        "\n",
        "# Perform cross-validation\n",
        "cv_scores = cross_val_score(linear_model, X_train, y_train, cv=5, scoring='neg_mean_squared_error')\n",
        "\n",
        "# Convert the negative MSE scores to positive and calculate RMSE\n",
        "rmse_scores = np.sqrt(-cv_scores)\n",
        "\n",
        "# Calculate mean RMSE across all folds\n",
        "mean_rmse = np.mean(rmse_scores)\n",
        "\n",
        "print(\"Cross-Validation RMSE Scores:\", rmse_scores)\n",
        "print(\"Mean RMSE:\", mean_rmse)\n"
      ],
      "metadata": {
        "colab": {
          "base_uri": "https://localhost:8080/"
        },
        "id": "WJAX0fIarh2G",
        "outputId": "3ce1e7bf-dae8-433d-a033-715f27966efe"
      },
      "execution_count": 10,
      "outputs": [
        {
          "output_type": "stream",
          "name": "stdout",
          "text": [
            "Cross-Validation RMSE Scores: [0.86359143 0.53147794 0.76808    0.89866726 0.76497371]\n",
            "Mean RMSE: 0.7653580677344519\n"
          ]
        }
      ]
    },
    {
      "cell_type": "code",
      "source": [
        "# Save predictions to a CSV file in the Colab environment\n",
        "predictions_df_predict[['day', 'next_day_close_price_predicted']].to_csv('Hoang_Diane.csv', index=False)\n",
        "\n",
        "# Download the CSV file from Colab\n",
        "from google.colab import files\n",
        "files.download('Hoang_Diane.csv')\n"
      ],
      "metadata": {
        "colab": {
          "base_uri": "https://localhost:8080/",
          "height": 17
        },
        "id": "kr-Kd6tlfYjb",
        "outputId": "9d238772-b734-4033-948c-3563c94a7af7"
      },
      "execution_count": 18,
      "outputs": [
        {
          "output_type": "display_data",
          "data": {
            "text/plain": [
              "<IPython.core.display.Javascript object>"
            ],
            "application/javascript": [
              "\n",
              "    async function download(id, filename, size) {\n",
              "      if (!google.colab.kernel.accessAllowed) {\n",
              "        return;\n",
              "      }\n",
              "      const div = document.createElement('div');\n",
              "      const label = document.createElement('label');\n",
              "      label.textContent = `Downloading \"${filename}\": `;\n",
              "      div.appendChild(label);\n",
              "      const progress = document.createElement('progress');\n",
              "      progress.max = size;\n",
              "      div.appendChild(progress);\n",
              "      document.body.appendChild(div);\n",
              "\n",
              "      const buffers = [];\n",
              "      let downloaded = 0;\n",
              "\n",
              "      const channel = await google.colab.kernel.comms.open(id);\n",
              "      // Send a message to notify the kernel that we're ready.\n",
              "      channel.send({})\n",
              "\n",
              "      for await (const message of channel.messages) {\n",
              "        // Send a message to notify the kernel that we're ready.\n",
              "        channel.send({})\n",
              "        if (message.buffers) {\n",
              "          for (const buffer of message.buffers) {\n",
              "            buffers.push(buffer);\n",
              "            downloaded += buffer.byteLength;\n",
              "            progress.value = downloaded;\n",
              "          }\n",
              "        }\n",
              "      }\n",
              "      const blob = new Blob(buffers, {type: 'application/binary'});\n",
              "      const a = document.createElement('a');\n",
              "      a.href = window.URL.createObjectURL(blob);\n",
              "      a.download = filename;\n",
              "      div.appendChild(a);\n",
              "      a.click();\n",
              "      div.remove();\n",
              "    }\n",
              "  "
            ]
          },
          "metadata": {}
        },
        {
          "output_type": "display_data",
          "data": {
            "text/plain": [
              "<IPython.core.display.Javascript object>"
            ],
            "application/javascript": [
              "download(\"download_b0813bd3-7dd4-453c-a7f7-ba4738f2b1bb\", \"Hoang_Diane.csv\", 6976)"
            ]
          },
          "metadata": {}
        }
      ]
    }
  ]
}